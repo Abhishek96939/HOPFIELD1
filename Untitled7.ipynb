{
  "nbformat": 4,
  "nbformat_minor": 0,
  "metadata": {
    "colab": {
      "provenance": []
    },
    "kernelspec": {
      "name": "python3",
      "display_name": "Python 3"
    },
    "language_info": {
      "name": "python"
    }
  },
  "cells": [
    {
      "cell_type": "code",
      "execution_count": 1,
      "metadata": {
        "colab": {
          "base_uri": "https://localhost:8080/"
        },
        "id": "tEWIex4pma7a",
        "outputId": "423c09e6-3a79-430d-eaeb-ad4c00dcfded"
      },
      "outputs": [
        {
          "output_type": "stream",
          "name": "stdout",
          "text": [
            "Collecting network\n",
            "  Downloading network-0.1.tar.gz (2.8 kB)\n",
            "  Preparing metadata (setup.py) ... \u001b[?25l\u001b[?25hdone\n",
            "Building wheels for collected packages: network\n",
            "  Building wheel for network (setup.py) ... \u001b[?25l\u001b[?25hdone\n",
            "  Created wheel for network: filename=network-0.1-py3-none-any.whl size=3139 sha256=3ff42bb285f2bbbe52221b024728cc876bcae51aded1792603aea9003761aaf6\n",
            "  Stored in directory: /root/.cache/pip/wheels/25/97/b1/563d3a70ed8f588bf9cf448f079024a9751b54d15a0ce3d46b\n",
            "Successfully built network\n",
            "Installing collected packages: network\n",
            "Successfully installed network-0.1\n"
          ]
        }
      ],
      "source": [
        "!pip install network"
      ]
    },
    {
      "cell_type": "code",
      "source": [
        "!pip install hopfield_network"
      ],
      "metadata": {
        "colab": {
          "base_uri": "https://localhost:8080/"
        },
        "id": "_80qZJDdmjWc",
        "outputId": "080d1d08-d7a3-49d4-ccb2-2f8925163897"
      },
      "execution_count": 3,
      "outputs": [
        {
          "output_type": "stream",
          "name": "stdout",
          "text": [
            "\u001b[31mERROR: Could not find a version that satisfies the requirement hopfield_network (from versions: none)\u001b[0m\u001b[31m\n",
            "\u001b[0m\u001b[31mERROR: No matching distribution found for hopfield_network\u001b[0m\u001b[31m\n",
            "\u001b[0m"
          ]
        }
      ]
    },
    {
      "cell_type": "code",
      "source": [
        "import numpy as np"
      ],
      "metadata": {
        "id": "GsytnOc9mjhP"
      },
      "execution_count": 4,
      "outputs": []
    },
    {
      "cell_type": "code",
      "source": [
        "class HopfieldNetwork:\n",
        "    def __init__(self, pattern_size):\n",
        "        self.pattern_size = pattern_size\n",
        "        self.weights = np.zeros((pattern_size, pattern_size))\n"
      ],
      "metadata": {
        "id": "e1eSdavim3gA"
      },
      "execution_count": 9,
      "outputs": []
    },
    {
      "cell_type": "code",
      "source": [
        "    def train(self, patterns):\n",
        "        for pattern in patterns:\n",
        "            pattern = np.array(pattern).reshape(-1, 1)\n",
        "            self.weights += np.dot(pattern, pattern.T)\n",
        "            np.fill_diagonal(self.weights, 0)"
      ],
      "metadata": {
        "id": "qzVIsHZYnLgi"
      },
      "execution_count": 7,
      "outputs": []
    },
    {
      "cell_type": "code",
      "source": [
        "    def predict(self, pattern, max_iterations=100):\n",
        "        pattern = np.array(pattern).reshape(-1, 1)\n",
        "        for _ in range(max_iterations):\n",
        "            activation = np.dot(self.weights, pattern)\n",
        "            pattern = np.where(activation >= 0, 1, -1)\n",
        "        return pattern.flatten()"
      ],
      "metadata": {
        "id": "PVlAM7i8nLj9"
      },
      "execution_count": 8,
      "outputs": []
    },
    {
      "cell_type": "code",
      "source": [
        "if __name__ == \"__main__\":\n",
        "    # Define patterns to be stored\n",
        "    patterns = [\n",
        "        [1, 1, -1, -1],\n",
        "        [-1, -1, 1, 1],\n",
        "        [1, -1, 1, -1]\n",
        "    ]\n",
        "\n",
        "    # Initialize Hopfield network\n",
        "    hopfield_net = HopfieldNetwork(pattern_size=len(patterns[0]))\n",
        "\n",
        "    # Train the network with patterns\n",
        "    hopfield_net.train(patterns)\n",
        "    # Test pattern retrieval\n",
        "    test_pattern = [1, -1, -1, 1]\n",
        "    retrieved_pattern = hopfield_net.predict(test_pattern)\n",
        "\n",
        "    print(\"Original pattern:\", test_pattern)\n",
        "    print(\"Retrieved pattern:\", retrieved_pattern)\n"
      ],
      "metadata": {
        "colab": {
          "base_uri": "https://localhost:8080/"
        },
        "id": "T8fge1Tzm3qA",
        "outputId": "54490ae2-dbcb-4d39-dc81-24c1a10242fc"
      },
      "execution_count": 6,
      "outputs": [
        {
          "output_type": "stream",
          "name": "stdout",
          "text": [
            "Original pattern: [1, -1, -1, 1]\n",
            "Retrieved pattern: [ 1 -1 -1  1]\n"
          ]
        }
      ]
    }
  ]
}